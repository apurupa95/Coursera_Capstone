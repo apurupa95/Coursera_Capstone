{
 "cells": [
  {
   "cell_type": "markdown",
   "metadata": {},
   "source": [
    "<h1 align=center><font size = 6>The Battle of Neighborhood for Coffee Shop</font></h1>"
   ]
  },
  {
   "cell_type": "markdown",
   "metadata": {},
   "source": [
    "<h3 align=left><font size =4>1. Description of the problem</fornt></h3>"
   ]
  },
  {
   "cell_type": "markdown",
   "metadata": {},
   "source": [
    "The idea of this study is to help people planning to open a new coffee shop in Greater Toronto Area to choose the right location by providing data about the income and population of each neighborhood as well as the competitors already present on the same regions.\n",
    "The Greater Toronto Area (GTA) is the most populous metropolitan area in Canada. It consists of the central city, Toronto, along with 25 surrounding suburbs, distributed among four regional municipalities: Durham, Halton, Peel, and York. Due to the busy life of every person they prefer to choose a coffee or tea on the go. In Toronto there are many neighborhood that have many coffee shop so choosing a place were there can be more profits is very important."
   ]
  },
  {
   "cell_type": "markdown",
   "metadata": {},
   "source": [
    "<font color=Red>Target Audience</font>\n",
    "\n",
    "1.Business personnel who wants to invest or open a coffee shop. This analysis will be a comprehensive guide to \n",
    "start or expand coffee shops targeting the large pool of office workers in Toronto.\n",
    "\n",
    "2.New graduates, to find reasonable tea/coffee place close to office.\n",
    "\n",
    "3.Budding Data Scientists, who wants to implement some of the most used Exploratory Data Analysis techniques to \n",
    "obtain necessary data, analyze it and, finally be able to tell a story out of it."
   ]
  },
  {
   "cell_type": "markdown",
   "metadata": {},
   "source": [
    "<h3 align=left><font size =4>2. Initial Data Preparation</fornt></h3>\n",
    "\n",
    "<h3 align=left><font size =3>Clean up and prepare the data (Week 1)</fornt></h3>\n",
    "\n",
    "In order to make the process easy I have used the toronto list of municipalities in the Greater Toronto Area from  wikipedia and cleaning the data to optain the data in tabular format also it is important to optain the list of major Districts Population for the wikipedia page."
   ]
  },
  {
   "cell_type": "code",
   "execution_count": null,
   "metadata": {},
   "outputs": [],
   "source": []
  }
 ],
 "metadata": {
  "kernelspec": {
   "display_name": "Python 3",
   "language": "python",
   "name": "python3"
  },
  "language_info": {
   "codemirror_mode": {
    "name": "ipython",
    "version": 3
   },
   "file_extension": ".py",
   "mimetype": "text/x-python",
   "name": "python",
   "nbconvert_exporter": "python",
   "pygments_lexer": "ipython3",
   "version": "3.7.4"
  }
 },
 "nbformat": 4,
 "nbformat_minor": 2
}
