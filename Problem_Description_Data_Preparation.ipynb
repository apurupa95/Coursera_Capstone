{
 "cells": [
  {
   "cell_type": "markdown",
   "metadata": {},
   "source": [
    "<h1 align=center><font size = 6>The Battle of Neighborhood for Best Restaurant</font></h1>"
   ]
  },
  {
   "cell_type": "markdown",
   "metadata": {},
   "source": [
    "<h3 align=left><font size =4>1. Description of the problem</fornt></h3>"
   ]
  },
  {
   "cell_type": "markdown",
   "metadata": {},
   "source": [
    "The idea of this study is to help people planning to open a new coffee shop or Resturant in Tokyo to choose the right location by providing data about the income and population of each neighborhood as well as the competitors already present on the same regions.\n",
    "The Tokyo is the most populous metropolitan area in Japan. It consists 23 wards of Tokyo.It is The capital of Japan it houses the Emperor of Japan and the Japanese government. Tokyo forms part of the Kantō region on the southeastern side of Japan's main island, Honshu, and includes the Izu and Ogasawara Islands. In Tokyo there are many neighborhood that have many coffee shop and restaurant so choosing a place were there can be more profits is very important."
   ]
  },
  {
   "cell_type": "markdown",
   "metadata": {},
   "source": [
    "<font color=Red>Target Audience</font>\n",
    "\n",
    "1.Business personnel who wants to invest or open a restaurant. This analysis will be a comprehensive guide to \n",
    "start or expand restaurants targeting the large pool of office workers in Tokyo during lunch hours.\n",
    "\n",
    "2.New graduates, to find reasonable lunch/breakfast place close to office.\n",
    "\n",
    "3.Budding Data Scientists, who wants to implement some of the most used Exploratory DataAnalysis techniques to obtain necessary data, analyze it and, finally be able to tell a story out of it."
   ]
  },
  {
   "cell_type": "markdown",
   "metadata": {},
   "source": [
    "<h3 align=left><font size =4>2. Initial Data Preparation</fornt></h3>\n",
    "\n",
    "<h3 align=left><font size =3>Clean up and prepare the data (Week 1)</fornt></h3>\n",
    "\n",
    "In order to make the process easy I have used the This is a list 23 wards in Tokyo city from  wikipedia and cleaning the data to optain the data in tabular format also it is important to optain the list of major Districts Population for the wikipedia page."
   ]
  }
 ],
 "metadata": {
  "kernelspec": {
   "display_name": "Python 3",
   "language": "python",
   "name": "python3"
  },
  "language_info": {
   "codemirror_mode": {
    "name": "ipython",
    "version": 3
   },
   "file_extension": ".py",
   "mimetype": "text/x-python",
   "name": "python",
   "nbconvert_exporter": "python",
   "pygments_lexer": "ipython3",
   "version": "3.7.4"
  }
 },
 "nbformat": 4,
 "nbformat_minor": 2
}
